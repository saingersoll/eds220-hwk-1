{
 "cells": [
  {
   "cell_type": "markdown",
   "metadata": {},
   "source": [
    "# Task 4\n",
    "\n",
    "First, update the following cell to have a link to your Homework 1 GitHub repository:\n",
    "\n",
    "UPDATE THIS LINK:\n",
    "\n",
    "https://github.com/saingersoll/eds220-hwk-1/tree/main\n",
    "\n",
    "In this task, make at least 5 commits at moments you think are adequate. We'll look at your repo to check commit history. Err on the side of commenting too much for now to get in the habit.\n",
    "\n",
    "Add comments for all your code. Err on the side of commenting too much for now.\n",
    "\n",
    "Comments in each exercise and commits will count towards your grade.\n",
    "\n",
    "This task covers topics we will see on Wednesday Oct. 11. You might want to wait until after that class to solve it.\n",
    "\n",
    "## Acknowledgement\n",
    "This task was adapted from the *Pandas Fundamentals with Earthquake Data* assignment from the e-book [Earth and Environmental Data Science](https://earth-env-data-science.github.io/intro.html)"
   ]
  },
  {
   "cell_type": "markdown",
   "metadata": {},
   "source": [
    "## About the data\n",
    "\n",
    "For this task we are going to use simplified data from the [USGS Earthquakes Database](https://earthquake.usgs.gov/earthquakes/search/). This dataset is in tabular format and has the following columns:\n",
    "\n",
    "- time = date and time of event (all events from 2014)\n",
    "- latitude = decimal degrees [-90,90]\n",
    "- longitude = decimal degrees [-360,360]\n",
    "- depth = depth of the event (km)\n",
    "- mag =  magnitude of event\n",
    "- id = event identifier\n",
    "- place = where the event took place\n",
    "- type = type of event\n",
    "\n",
    "## 1 \n",
    "\n",
    "a. Import pandas (always with standard abbreviation!).\n",
    "\n",
    "b. Use `pd.read_csv()` to import the `earthquake_data.csv` dataset and store it as `raw_eqk` (variable name).\n",
    "\n",
    "c. Look at the head of the dataframe."
   ]
  },
  {
   "cell_type": "code",
   "execution_count": 2,
   "metadata": {
    "tags": [],
    "vscode": {
     "languageId": "python"
    }
   },
   "outputs": [
    {
     "data": {
      "text/html": [
       "<div>\n",
       "<style scoped>\n",
       "    .dataframe tbody tr th:only-of-type {\n",
       "        vertical-align: middle;\n",
       "    }\n",
       "\n",
       "    .dataframe tbody tr th {\n",
       "        vertical-align: top;\n",
       "    }\n",
       "\n",
       "    .dataframe thead th {\n",
       "        text-align: right;\n",
       "    }\n",
       "</style>\n",
       "<table border=\"1\" class=\"dataframe\">\n",
       "  <thead>\n",
       "    <tr style=\"text-align: right;\">\n",
       "      <th></th>\n",
       "      <th>time</th>\n",
       "      <th>latitude</th>\n",
       "      <th>longitude</th>\n",
       "      <th>depth</th>\n",
       "      <th>mag</th>\n",
       "      <th>id</th>\n",
       "      <th>place</th>\n",
       "      <th>type</th>\n",
       "    </tr>\n",
       "  </thead>\n",
       "  <tbody>\n",
       "    <tr>\n",
       "      <th>0</th>\n",
       "      <td>2014-01-31 23:53:37.000</td>\n",
       "      <td>60.252000</td>\n",
       "      <td>-152.7081</td>\n",
       "      <td>90.20</td>\n",
       "      <td>1.10</td>\n",
       "      <td>ak11155107</td>\n",
       "      <td>26km S of Redoubt Volcano, Alaska</td>\n",
       "      <td>earthquake</td>\n",
       "    </tr>\n",
       "    <tr>\n",
       "      <th>1</th>\n",
       "      <td>2014-01-31 23:48:35.452</td>\n",
       "      <td>37.070300</td>\n",
       "      <td>-115.1309</td>\n",
       "      <td>0.00</td>\n",
       "      <td>1.33</td>\n",
       "      <td>nn00436847</td>\n",
       "      <td>32km S of Alamo, Nevada</td>\n",
       "      <td>earthquake</td>\n",
       "    </tr>\n",
       "    <tr>\n",
       "      <th>2</th>\n",
       "      <td>2014-01-31 23:47:24.000</td>\n",
       "      <td>64.671700</td>\n",
       "      <td>-149.2528</td>\n",
       "      <td>7.10</td>\n",
       "      <td>1.30</td>\n",
       "      <td>ak11151142</td>\n",
       "      <td>12km NNW of North Nenana, Alaska</td>\n",
       "      <td>earthquake</td>\n",
       "    </tr>\n",
       "    <tr>\n",
       "      <th>3</th>\n",
       "      <td>2014-01-31 23:30:54.000</td>\n",
       "      <td>63.188700</td>\n",
       "      <td>-148.9575</td>\n",
       "      <td>96.50</td>\n",
       "      <td>0.80</td>\n",
       "      <td>ak11151135</td>\n",
       "      <td>22km S of Cantwell, Alaska</td>\n",
       "      <td>earthquake</td>\n",
       "    </tr>\n",
       "    <tr>\n",
       "      <th>4</th>\n",
       "      <td>2014-01-31 23:30:52.210</td>\n",
       "      <td>32.616833</td>\n",
       "      <td>-115.6925</td>\n",
       "      <td>10.59</td>\n",
       "      <td>1.34</td>\n",
       "      <td>ci37171541</td>\n",
       "      <td>10km WNW of Progreso, Mexico</td>\n",
       "      <td>earthquake</td>\n",
       "    </tr>\n",
       "  </tbody>\n",
       "</table>\n",
       "</div>"
      ],
      "text/plain": [
       "                      time   latitude  longitude  depth   mag          id  \\\n",
       "0  2014-01-31 23:53:37.000  60.252000  -152.7081  90.20  1.10  ak11155107   \n",
       "1  2014-01-31 23:48:35.452  37.070300  -115.1309   0.00  1.33  nn00436847   \n",
       "2  2014-01-31 23:47:24.000  64.671700  -149.2528   7.10  1.30  ak11151142   \n",
       "3  2014-01-31 23:30:54.000  63.188700  -148.9575  96.50  0.80  ak11151135   \n",
       "4  2014-01-31 23:30:52.210  32.616833  -115.6925  10.59  1.34  ci37171541   \n",
       "\n",
       "                               place        type  \n",
       "0  26km S of Redoubt Volcano, Alaska  earthquake  \n",
       "1            32km S of Alamo, Nevada  earthquake  \n",
       "2   12km NNW of North Nenana, Alaska  earthquake  \n",
       "3         22km S of Cantwell, Alaska  earthquake  \n",
       "4       10km WNW of Progreso, Mexico  earthquake  "
      ]
     },
     "execution_count": 2,
     "metadata": {},
     "output_type": "execute_result"
    }
   ],
   "source": [
    "import pandas as pd                                # Reading in the library\n",
    "\n",
    "raw_eqk = pd.read_csv('data/earthquake_data.csv')  # Reading in the csv file from data folder\n",
    "\n",
    "raw_eqk.head()                                     # Checking data read in is right\n",
    "                        "
   ]
  },
  {
   "cell_type": "markdown",
   "metadata": {},
   "source": [
    "## 2\n",
    "a. Print the shape of the `raw_eqk` dataframe.\n",
    "\n",
    "b. Print the type of `raw_eqk`'s shape.\n",
    "\n",
    "c. Print *only* the number of rows by accessing it from `raw_eqk`'s shape. HINT: how do you index an element in a tuple?"
   ]
  },
  {
   "cell_type": "code",
   "execution_count": 3,
   "metadata": {
    "tags": [],
    "vscode": {
     "languageId": "python"
    }
   },
   "outputs": [
    {
     "name": "stdout",
     "output_type": "stream",
     "text": [
      "(120108, 8)\n"
     ]
    }
   ],
   "source": [
    "# a\n",
    "print(raw_eqk.shape)          # Prints the number of rows and columns. (120108, 8) in this case"
   ]
  },
  {
   "cell_type": "code",
   "execution_count": 4,
   "metadata": {
    "tags": []
   },
   "outputs": [
    {
     "name": "stdout",
     "output_type": "stream",
     "text": [
      "<class 'tuple'>\n"
     ]
    }
   ],
   "source": [
    "# b\n",
    "print(type(raw_eqk.shape))    # Prints the class of the data frame contents, in this case tuple"
   ]
  },
  {
   "cell_type": "code",
   "execution_count": 16,
   "metadata": {},
   "outputs": [
    {
     "data": {
      "text/plain": [
       "120108"
      ]
     },
     "execution_count": 16,
     "metadata": {},
     "output_type": "execute_result"
    }
   ],
   "source": [
    "# c\n",
    "len(raw_eqk.index)           # Outputs the number of rows in the data frame. In this case, 120108"
   ]
  },
  {
   "cell_type": "markdown",
   "metadata": {},
   "source": [
    "## 3\n",
    "\n",
    "Get the unique values of the type of events."
   ]
  },
  {
   "cell_type": "code",
   "execution_count": 6,
   "metadata": {
    "vscode": {
     "languageId": "python"
    }
   },
   "outputs": [
    {
     "data": {
      "text/plain": [
       "array(['earthquake', 'quarry blast', 'quarry', 'mining explosion',\n",
       "       'rock burst', 'explosion', 'landslide', 'sonicboom', 'sonic boom',\n",
       "       'anthropogenic event', 'acoustic noise'], dtype=object)"
      ]
     },
     "execution_count": 6,
     "metadata": {},
     "output_type": "execute_result"
    }
   ],
   "source": [
    "uniqueevents = raw_eqk.type.unique()          # Calls the desired column in the data frame and isolates unique input values\n",
    "\n",
    "uniqueevents                                  # Displays array created above"
   ]
  },
  {
   "cell_type": "markdown",
   "metadata": {},
   "source": [
    "# 4\n",
    "\n",
    "a. Select only earthquake events and store them as `eqk` (variable name)\n",
    "\n",
    "b. Update the index of `eqk` to be the `id` column of the dataframe. \n",
    "\n",
    "c. Check the new index by viewing the first 3 rows of `eqk`."
   ]
  },
  {
   "cell_type": "code",
   "execution_count": 34,
   "metadata": {
    "vscode": {
     "languageId": "python"
    }
   },
   "outputs": [
    {
     "data": {
      "text/html": [
       "<div>\n",
       "<style scoped>\n",
       "    .dataframe tbody tr th:only-of-type {\n",
       "        vertical-align: middle;\n",
       "    }\n",
       "\n",
       "    .dataframe tbody tr th {\n",
       "        vertical-align: top;\n",
       "    }\n",
       "\n",
       "    .dataframe thead th {\n",
       "        text-align: right;\n",
       "    }\n",
       "</style>\n",
       "<table border=\"1\" class=\"dataframe\">\n",
       "  <thead>\n",
       "    <tr style=\"text-align: right;\">\n",
       "      <th></th>\n",
       "      <th>time</th>\n",
       "      <th>latitude</th>\n",
       "      <th>longitude</th>\n",
       "      <th>depth</th>\n",
       "      <th>mag</th>\n",
       "      <th>id</th>\n",
       "      <th>place</th>\n",
       "      <th>type</th>\n",
       "    </tr>\n",
       "  </thead>\n",
       "  <tbody>\n",
       "    <tr>\n",
       "      <th>0</th>\n",
       "      <td>2014-01-31 23:53:37.000</td>\n",
       "      <td>60.252000</td>\n",
       "      <td>-152.7081</td>\n",
       "      <td>90.20</td>\n",
       "      <td>1.10</td>\n",
       "      <td>ak11155107</td>\n",
       "      <td>26km S of Redoubt Volcano, Alaska</td>\n",
       "      <td>earthquake</td>\n",
       "    </tr>\n",
       "    <tr>\n",
       "      <th>1</th>\n",
       "      <td>2014-01-31 23:48:35.452</td>\n",
       "      <td>37.070300</td>\n",
       "      <td>-115.1309</td>\n",
       "      <td>0.00</td>\n",
       "      <td>1.33</td>\n",
       "      <td>nn00436847</td>\n",
       "      <td>32km S of Alamo, Nevada</td>\n",
       "      <td>earthquake</td>\n",
       "    </tr>\n",
       "    <tr>\n",
       "      <th>2</th>\n",
       "      <td>2014-01-31 23:47:24.000</td>\n",
       "      <td>64.671700</td>\n",
       "      <td>-149.2528</td>\n",
       "      <td>7.10</td>\n",
       "      <td>1.30</td>\n",
       "      <td>ak11151142</td>\n",
       "      <td>12km NNW of North Nenana, Alaska</td>\n",
       "      <td>earthquake</td>\n",
       "    </tr>\n",
       "    <tr>\n",
       "      <th>3</th>\n",
       "      <td>2014-01-31 23:30:54.000</td>\n",
       "      <td>63.188700</td>\n",
       "      <td>-148.9575</td>\n",
       "      <td>96.50</td>\n",
       "      <td>0.80</td>\n",
       "      <td>ak11151135</td>\n",
       "      <td>22km S of Cantwell, Alaska</td>\n",
       "      <td>earthquake</td>\n",
       "    </tr>\n",
       "    <tr>\n",
       "      <th>4</th>\n",
       "      <td>2014-01-31 23:30:52.210</td>\n",
       "      <td>32.616833</td>\n",
       "      <td>-115.6925</td>\n",
       "      <td>10.59</td>\n",
       "      <td>1.34</td>\n",
       "      <td>ci37171541</td>\n",
       "      <td>10km WNW of Progreso, Mexico</td>\n",
       "      <td>earthquake</td>\n",
       "    </tr>\n",
       "  </tbody>\n",
       "</table>\n",
       "</div>"
      ],
      "text/plain": [
       "                      time   latitude  longitude  depth   mag          id  \\\n",
       "0  2014-01-31 23:53:37.000  60.252000  -152.7081  90.20  1.10  ak11155107   \n",
       "1  2014-01-31 23:48:35.452  37.070300  -115.1309   0.00  1.33  nn00436847   \n",
       "2  2014-01-31 23:47:24.000  64.671700  -149.2528   7.10  1.30  ak11151142   \n",
       "3  2014-01-31 23:30:54.000  63.188700  -148.9575  96.50  0.80  ak11151135   \n",
       "4  2014-01-31 23:30:52.210  32.616833  -115.6925  10.59  1.34  ci37171541   \n",
       "\n",
       "                               place        type  \n",
       "0  26km S of Redoubt Volcano, Alaska  earthquake  \n",
       "1            32km S of Alamo, Nevada  earthquake  \n",
       "2   12km NNW of North Nenana, Alaska  earthquake  \n",
       "3         22km S of Cantwell, Alaska  earthquake  \n",
       "4       10km WNW of Progreso, Mexico  earthquake  "
      ]
     },
     "execution_count": 34,
     "metadata": {},
     "output_type": "execute_result"
    }
   ],
   "source": [
    "# a\n",
    "\n",
    "eqk =  raw_eqk.loc[raw_eqk ['type'] == 'earthquake']    # Isolates observations where earthquake is the type and stores them in a new data subset. \n",
    "\n",
    "eqk.head()                                              # Displays top of the data subset created"
   ]
  },
  {
   "cell_type": "code",
   "execution_count": 29,
   "metadata": {
    "tags": []
   },
   "outputs": [],
   "source": [
    "# b \n",
    "eqk = raw_eqk.set_index('id')               # This sets the index of the data subset to be organized by id "
   ]
  },
  {
   "cell_type": "code",
   "execution_count": 30,
   "metadata": {
    "tags": []
   },
   "outputs": [
    {
     "data": {
      "text/html": [
       "<div>\n",
       "<style scoped>\n",
       "    .dataframe tbody tr th:only-of-type {\n",
       "        vertical-align: middle;\n",
       "    }\n",
       "\n",
       "    .dataframe tbody tr th {\n",
       "        vertical-align: top;\n",
       "    }\n",
       "\n",
       "    .dataframe thead th {\n",
       "        text-align: right;\n",
       "    }\n",
       "</style>\n",
       "<table border=\"1\" class=\"dataframe\">\n",
       "  <thead>\n",
       "    <tr style=\"text-align: right;\">\n",
       "      <th></th>\n",
       "      <th>time</th>\n",
       "      <th>latitude</th>\n",
       "      <th>longitude</th>\n",
       "      <th>depth</th>\n",
       "      <th>mag</th>\n",
       "      <th>place</th>\n",
       "      <th>type</th>\n",
       "    </tr>\n",
       "    <tr>\n",
       "      <th>id</th>\n",
       "      <th></th>\n",
       "      <th></th>\n",
       "      <th></th>\n",
       "      <th></th>\n",
       "      <th></th>\n",
       "      <th></th>\n",
       "      <th></th>\n",
       "    </tr>\n",
       "  </thead>\n",
       "  <tbody>\n",
       "    <tr>\n",
       "      <th>ak11155107</th>\n",
       "      <td>2014-01-31 23:53:37.000</td>\n",
       "      <td>60.2520</td>\n",
       "      <td>-152.7081</td>\n",
       "      <td>90.2</td>\n",
       "      <td>1.10</td>\n",
       "      <td>26km S of Redoubt Volcano, Alaska</td>\n",
       "      <td>earthquake</td>\n",
       "    </tr>\n",
       "    <tr>\n",
       "      <th>nn00436847</th>\n",
       "      <td>2014-01-31 23:48:35.452</td>\n",
       "      <td>37.0703</td>\n",
       "      <td>-115.1309</td>\n",
       "      <td>0.0</td>\n",
       "      <td>1.33</td>\n",
       "      <td>32km S of Alamo, Nevada</td>\n",
       "      <td>earthquake</td>\n",
       "    </tr>\n",
       "    <tr>\n",
       "      <th>ak11151142</th>\n",
       "      <td>2014-01-31 23:47:24.000</td>\n",
       "      <td>64.6717</td>\n",
       "      <td>-149.2528</td>\n",
       "      <td>7.1</td>\n",
       "      <td>1.30</td>\n",
       "      <td>12km NNW of North Nenana, Alaska</td>\n",
       "      <td>earthquake</td>\n",
       "    </tr>\n",
       "  </tbody>\n",
       "</table>\n",
       "</div>"
      ],
      "text/plain": [
       "                               time  latitude  longitude  depth   mag  \\\n",
       "id                                                                      \n",
       "ak11155107  2014-01-31 23:53:37.000   60.2520  -152.7081   90.2  1.10   \n",
       "nn00436847  2014-01-31 23:48:35.452   37.0703  -115.1309    0.0  1.33   \n",
       "ak11151142  2014-01-31 23:47:24.000   64.6717  -149.2528    7.1  1.30   \n",
       "\n",
       "                                        place        type  \n",
       "id                                                         \n",
       "ak11155107  26km S of Redoubt Volcano, Alaska  earthquake  \n",
       "nn00436847            32km S of Alamo, Nevada  earthquake  \n",
       "ak11151142   12km NNW of North Nenana, Alaska  earthquake  "
      ]
     },
     "execution_count": 30,
     "metadata": {},
     "output_type": "execute_result"
    }
   ],
   "source": [
    "# c\n",
    "eqk.iloc[0:3]                               # This displays the first three rows of the newly indexed data subset"
   ]
  },
  {
   "cell_type": "markdown",
   "metadata": {},
   "source": [
    "# 5\n",
    "\n",
    "How many events were left out of `raw_eqk` when you selected ony earthqake events? \n",
    "\n",
    "HINT: There are *many* ways you can get this information. One could be to use (2)."
   ]
  },
  {
   "cell_type": "code",
   "execution_count": 36,
   "metadata": {
    "vscode": {
     "languageId": "python"
    }
   },
   "outputs": [
    {
     "name": "stdout",
     "output_type": "stream",
     "text": [
      "120108\n",
      "118398\n",
      "1710\n"
     ]
    }
   ],
   "source": [
    "print(len(raw_eqk))               # Displays the length of the raw data, 120108\n",
    "\n",
    "print(len(eqk))                   # Displays the length of the filtered data, 118398\n",
    "\n",
    "print(len(raw_eqk) - len(eqk))    # Displays the difference between the two lengths, 1710"
   ]
  },
  {
   "cell_type": "markdown",
   "metadata": {},
   "source": [
    "# 6\n",
    "Without creating any new variables, plot a histogram of the eartquake's magnitudes (`eqk` data). Add a title and change the color of your graph."
   ]
  },
  {
   "cell_type": "code",
   "execution_count": 47,
   "metadata": {
    "vscode": {
     "languageId": "python"
    }
   },
   "outputs": [
    {
     "data": {
      "text/plain": [
       "<AxesSubplot:title={'center':'Earthquak Frequencies'}, ylabel='Frequency'>"
      ]
     },
     "execution_count": 47,
     "metadata": {},
     "output_type": "execute_result"
    },
    {
     "data": {
      "image/png": "[encoded data removed]",
      "text/plain": [
       "<Figure size 640x480 with 1 Axes>"
      ]
     },
     "metadata": {},
     "output_type": "display_data"
    }
   ],
   "source": [
    "eqk.mag.plot(kind = 'hist',                          # type of graph\n",
    "             title ='Earthquak Frequencies',         # title\n",
    "             xlabel = 'Magnitude',                   # should pop out x-label but there's a bug\n",
    "             color ='hotpink')                       # changes the color to hot pink"
   ]
  },
  {
   "cell_type": "markdown",
   "metadata": {},
   "source": [
    "# 7\n",
    "\n",
    "a. Create a new variable `top20` with the 20 earthquakes with largest magnitude. HINT: [`pandas.Series.nlargest`](https://pandas.pydata.org/docs/reference/api/pandas.Series.nlargest.html)\n",
    "\n",
    "b. Create a bar plot showing the magnitude of the top 20 earthquakes. Update the title, x-axis label, y-axis label, and color of the bars. \n",
    "\n",
    "c. What is the role of the `top20` index in the graph? What would have happened if we had not updated the index?"
   ]
  },
  {
   "cell_type": "code",
   "execution_count": 7,
   "metadata": {
    "vscode": {
     "languageId": "python"
    }
   },
   "outputs": [],
   "source": [
    "# solve exercise here"
   ]
  },
  {
   "cell_type": "markdown",
   "metadata": {},
   "source": [
    "*Write your answer for 7c here*"
   ]
  },
  {
   "cell_type": "markdown",
   "metadata": {},
   "source": [
    "# 8 \n",
    "We are interested in place, magnitude and depth of the top 20 earthquakes with largest magnitude. Select this data from the `eqk` data frame.\n",
    "\n",
    "HINT: This is a \"select rows and columns simultaneously\" from `eqk` exercise. To select the rows you could use the index of `top20`."
   ]
  },
  {
   "cell_type": "code",
   "execution_count": 8,
   "metadata": {
    "vscode": {
     "languageId": "python"
    }
   },
   "outputs": [],
   "source": [
    "# solve exercise here"
   ]
  },
  {
   "cell_type": "markdown",
   "metadata": {},
   "source": [
    "# 9 \n",
    "\n",
    "Without creating any new variables, visualize the locations of eartquakes with magnitude greter than 5 by creating a scatter plot of their latitude and longitude. Make the following adjustments to the basic plot:\n",
    "- update the title\n",
    "- color the points by magnitude (HINT: [check the `c` parameter here](https://pandas.pydata.org/pandas-docs/stable/reference/api/pandas.DataFrame.plot.scatter.html))\n",
    "- adjust the `alpha` (transparency) argument\n",
    "- adjust the `colormap` argument to maket it look prettier. [Click for ideas of sequential colormaps.](https://matplotlib.org/stable/users/explain/colors/colormaps.html)\n"
   ]
  },
  {
   "cell_type": "code",
   "execution_count": 9,
   "metadata": {
    "vscode": {
     "languageId": "python"
    }
   },
   "outputs": [],
   "source": [
    "# solve exercise here"
   ]
  }
 ],
 "metadata": {
  "kernelspec": {
   "display_name": "Anaconda 3 (Base)",
   "language": "python",
   "name": "base"
  },
  "language_info": {
   "codemirror_mode": {
    "name": "ipython",
    "version": 3
   },
   "file_extension": ".py",
   "mimetype": "text/x-python",
   "name": "python",
   "nbconvert_exporter": "python",
   "pygments_lexer": "ipython3",
   "version": "3.9.13"
  }
 },
 "nbformat": 4,
 "nbformat_minor": 4
}
